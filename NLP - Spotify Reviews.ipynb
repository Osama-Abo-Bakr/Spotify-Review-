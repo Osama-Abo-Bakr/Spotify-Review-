{
 "cells": [
  {
   "cell_type": "markdown",
   "id": "bc096eaa",
   "metadata": {},
   "source": [
    "# Main Library"
   ]
  },
  {
   "cell_type": "code",
   "execution_count": 1,
   "id": "9512ea37",
   "metadata": {},
   "outputs": [],
   "source": [
    "# Reading Data\n",
    "import pandas as pd\n",
    "import numpy as np\n",
    "import os, string, re, nltk\n",
    "\n",
    "# Data Preprocessing\n",
    "from nltk.corpus import stopwords\n",
    "from nltk.stem import WordNetLemmatizer, PorterStemmer\n",
    "from sklearn.model_selection import train_test_split\n",
    "from sklearn.feature_extraction.text import TfidfVectorizer\n",
    "\n",
    "# Tokenizer\n",
    "from tensorflow.keras.preprocessing.text import Tokenizer\n",
    "from tensorflow.keras.preprocessing.sequence import pad_sequences\n",
    "\n",
    "# Building Model\n",
    "import tensorflow.keras as k\n",
    "from sklearn.naive_bayes import MultinomialNB\n",
    "from sklearn.ensemble import RandomForestClassifier"
   ]
  },
  {
   "cell_type": "markdown",
   "id": "695c4574",
   "metadata": {},
   "source": [
    "# Reading Data"
   ]
  },
  {
   "cell_type": "code",
   "execution_count": 2,
   "id": "c0312aae",
   "metadata": {},
   "outputs": [
    {
     "data": {
      "text/html": [
       "<div>\n",
       "<style scoped>\n",
       "    .dataframe tbody tr th:only-of-type {\n",
       "        vertical-align: middle;\n",
       "    }\n",
       "\n",
       "    .dataframe tbody tr th {\n",
       "        vertical-align: top;\n",
       "    }\n",
       "\n",
       "    .dataframe thead th {\n",
       "        text-align: right;\n",
       "    }\n",
       "</style>\n",
       "<table border=\"1\" class=\"dataframe\">\n",
       "  <thead>\n",
       "    <tr style=\"text-align: right;\">\n",
       "      <th></th>\n",
       "      <th>reviewId</th>\n",
       "      <th>userName</th>\n",
       "      <th>content</th>\n",
       "      <th>score</th>\n",
       "      <th>thumbsUpCount</th>\n",
       "      <th>reviewCreatedVersion</th>\n",
       "      <th>at</th>\n",
       "      <th>appVersion</th>\n",
       "    </tr>\n",
       "  </thead>\n",
       "  <tbody>\n",
       "    <tr>\n",
       "      <th>0</th>\n",
       "      <td>437314fe-1b1d-4352-abea-12fec30fce58</td>\n",
       "      <td>Rajib Das</td>\n",
       "      <td>It's good</td>\n",
       "      <td>4</td>\n",
       "      <td>0</td>\n",
       "      <td>NaN</td>\n",
       "      <td>2024-05-09 16:28:13</td>\n",
       "      <td>NaN</td>\n",
       "    </tr>\n",
       "    <tr>\n",
       "      <th>1</th>\n",
       "      <td>4933ad2c-c70a-4a84-957d-d405439b2e0f</td>\n",
       "      <td>Mihaela Claudia Neagu</td>\n",
       "      <td>I love this app so much, I've been using Spoti...</td>\n",
       "      <td>5</td>\n",
       "      <td>0</td>\n",
       "      <td>8.9.38.494</td>\n",
       "      <td>2024-05-09 16:27:18</td>\n",
       "      <td>8.9.38.494</td>\n",
       "    </tr>\n",
       "    <tr>\n",
       "      <th>2</th>\n",
       "      <td>1ab275fb-59bf-42c7-88ef-b85901f0445e</td>\n",
       "      <td>JONATHAN GRACIA</td>\n",
       "      <td>Perfect</td>\n",
       "      <td>5</td>\n",
       "      <td>0</td>\n",
       "      <td>8.9.36.616</td>\n",
       "      <td>2024-05-09 16:27:03</td>\n",
       "      <td>8.9.36.616</td>\n",
       "    </tr>\n",
       "    <tr>\n",
       "      <th>3</th>\n",
       "      <td>b38406eb-7b11-4ceb-a45c-d7f28fb5d382</td>\n",
       "      <td>Cam Rempel</td>\n",
       "      <td>Best all around music streaming app I have use...</td>\n",
       "      <td>5</td>\n",
       "      <td>0</td>\n",
       "      <td>8.9.38.494</td>\n",
       "      <td>2024-05-09 16:26:19</td>\n",
       "      <td>8.9.38.494</td>\n",
       "    </tr>\n",
       "    <tr>\n",
       "      <th>4</th>\n",
       "      <td>7be7999d-4cb6-47b9-8414-d7bdaa9df578</td>\n",
       "      <td>Your clowness (Her Clowness)</td>\n",
       "      <td>Are y'all fr gatekeeping the play button on so...</td>\n",
       "      <td>1</td>\n",
       "      <td>0</td>\n",
       "      <td>8.9.38.494</td>\n",
       "      <td>2024-05-09 16:26:14</td>\n",
       "      <td>8.9.38.494</td>\n",
       "    </tr>\n",
       "  </tbody>\n",
       "</table>\n",
       "</div>"
      ],
      "text/plain": [
       "                               reviewId                      userName  \\\n",
       "0  437314fe-1b1d-4352-abea-12fec30fce58                     Rajib Das   \n",
       "1  4933ad2c-c70a-4a84-957d-d405439b2e0f         Mihaela Claudia Neagu   \n",
       "2  1ab275fb-59bf-42c7-88ef-b85901f0445e               JONATHAN GRACIA   \n",
       "3  b38406eb-7b11-4ceb-a45c-d7f28fb5d382                    Cam Rempel   \n",
       "4  7be7999d-4cb6-47b9-8414-d7bdaa9df578  Your clowness (Her Clowness)   \n",
       "\n",
       "                                             content  score  thumbsUpCount  \\\n",
       "0                                          It's good      4              0   \n",
       "1  I love this app so much, I've been using Spoti...      5              0   \n",
       "2                                            Perfect      5              0   \n",
       "3  Best all around music streaming app I have use...      5              0   \n",
       "4  Are y'all fr gatekeeping the play button on so...      1              0   \n",
       "\n",
       "  reviewCreatedVersion                   at  appVersion  \n",
       "0                  NaN  2024-05-09 16:28:13         NaN  \n",
       "1           8.9.38.494  2024-05-09 16:27:18  8.9.38.494  \n",
       "2           8.9.36.616  2024-05-09 16:27:03  8.9.36.616  \n",
       "3           8.9.38.494  2024-05-09 16:26:19  8.9.38.494  \n",
       "4           8.9.38.494  2024-05-09 16:26:14  8.9.38.494  "
      ]
     },
     "execution_count": 2,
     "metadata": {},
     "output_type": "execute_result"
    }
   ],
   "source": [
    "data = pd.read_csv(r'D:\\Courses language programming\\LLM - Transformer - NLP\\NLP - Complete Course\\Projects For NLP\\Data\\Spotify Reviews\\spotify_reviews.csv')\n",
    "data.head()"
   ]
  },
  {
   "cell_type": "code",
   "execution_count": 3,
   "id": "a22be8da",
   "metadata": {},
   "outputs": [
    {
     "data": {
      "text/plain": [
       "reviewId                   0\n",
       "userName                   4\n",
       "content                    0\n",
       "score                      0\n",
       "thumbsUpCount              0\n",
       "reviewCreatedVersion    5768\n",
       "at                         0\n",
       "appVersion              5768\n",
       "dtype: int64"
      ]
     },
     "execution_count": 3,
     "metadata": {},
     "output_type": "execute_result"
    }
   ],
   "source": [
    "data.isnull().sum()"
   ]
  },
  {
   "cell_type": "code",
   "execution_count": 4,
   "id": "233d5230",
   "metadata": {},
   "outputs": [
    {
     "data": {
      "text/plain": [
       "828"
      ]
     },
     "execution_count": 4,
     "metadata": {},
     "output_type": "execute_result"
    }
   ],
   "source": [
    "len(data['thumbsUpCount'].value_counts())"
   ]
  },
  {
   "cell_type": "code",
   "execution_count": 5,
   "id": "1f82ca16",
   "metadata": {},
   "outputs": [
    {
     "data": {
      "text/plain": [
       "(1    35060\n",
       " 2    13846\n",
       " 5    13568\n",
       " 3    12019\n",
       " 4     9672\n",
       " Name: score, dtype: int64,\n",
       " 5)"
      ]
     },
     "execution_count": 5,
     "metadata": {},
     "output_type": "execute_result"
    }
   ],
   "source": [
    "data['score'].value_counts(), len(data['score'].value_counts())"
   ]
  },
  {
   "cell_type": "markdown",
   "id": "1f9c24c0",
   "metadata": {},
   "source": [
    "# Drop Some col"
   ]
  },
  {
   "cell_type": "code",
   "execution_count": 6,
   "id": "d2527dfb",
   "metadata": {},
   "outputs": [],
   "source": [
    "data = data.drop(columns=['reviewId', 'userName', 'reviewCreatedVersion', 'at', 'appVersion', 'thumbsUpCount'], axis=1)"
   ]
  },
  {
   "cell_type": "code",
   "execution_count": 7,
   "id": "8868d2ed",
   "metadata": {},
   "outputs": [
    {
     "data": {
      "text/html": [
       "<div>\n",
       "<style scoped>\n",
       "    .dataframe tbody tr th:only-of-type {\n",
       "        vertical-align: middle;\n",
       "    }\n",
       "\n",
       "    .dataframe tbody tr th {\n",
       "        vertical-align: top;\n",
       "    }\n",
       "\n",
       "    .dataframe thead th {\n",
       "        text-align: right;\n",
       "    }\n",
       "</style>\n",
       "<table border=\"1\" class=\"dataframe\">\n",
       "  <thead>\n",
       "    <tr style=\"text-align: right;\">\n",
       "      <th></th>\n",
       "      <th>content</th>\n",
       "      <th>score</th>\n",
       "    </tr>\n",
       "  </thead>\n",
       "  <tbody>\n",
       "    <tr>\n",
       "      <th>0</th>\n",
       "      <td>It's good</td>\n",
       "      <td>4</td>\n",
       "    </tr>\n",
       "    <tr>\n",
       "      <th>1</th>\n",
       "      <td>I love this app so much, I've been using Spoti...</td>\n",
       "      <td>5</td>\n",
       "    </tr>\n",
       "    <tr>\n",
       "      <th>2</th>\n",
       "      <td>Perfect</td>\n",
       "      <td>5</td>\n",
       "    </tr>\n",
       "    <tr>\n",
       "      <th>3</th>\n",
       "      <td>Best all around music streaming app I have use...</td>\n",
       "      <td>5</td>\n",
       "    </tr>\n",
       "    <tr>\n",
       "      <th>4</th>\n",
       "      <td>Are y'all fr gatekeeping the play button on so...</td>\n",
       "      <td>1</td>\n",
       "    </tr>\n",
       "  </tbody>\n",
       "</table>\n",
       "</div>"
      ],
      "text/plain": [
       "                                             content  score\n",
       "0                                          It's good      4\n",
       "1  I love this app so much, I've been using Spoti...      5\n",
       "2                                            Perfect      5\n",
       "3  Best all around music streaming app I have use...      5\n",
       "4  Are y'all fr gatekeeping the play button on so...      1"
      ]
     },
     "execution_count": 7,
     "metadata": {},
     "output_type": "execute_result"
    }
   ],
   "source": [
    "data.head()"
   ]
  },
  {
   "cell_type": "code",
   "execution_count": 8,
   "id": "b55df444",
   "metadata": {},
   "outputs": [],
   "source": [
    "punc = list(string.punctuation)\n",
    "lemma = WordNetLemmatizer()\n",
    "ps = PorterStemmer()\n",
    "sw = stopwords.words('english')"
   ]
  },
  {
   "cell_type": "code",
   "execution_count": 9,
   "id": "2fc04972",
   "metadata": {},
   "outputs": [],
   "source": [
    "def preprocessing(text):\n",
    "    text = text.lower()\n",
    "    text = re.sub('[^a-zA-Z]', ' ', text)\n",
    "    text = text.split()\n",
    "    text = ' '.join([lemma.lemmatize(word) for word in text if (word not in punc) or (word not in sw)])\n",
    "    return text"
   ]
  },
  {
   "cell_type": "code",
   "execution_count": 10,
   "id": "1026be05",
   "metadata": {},
   "outputs": [
    {
     "data": {
      "text/html": [
       "<div>\n",
       "<style scoped>\n",
       "    .dataframe tbody tr th:only-of-type {\n",
       "        vertical-align: middle;\n",
       "    }\n",
       "\n",
       "    .dataframe tbody tr th {\n",
       "        vertical-align: top;\n",
       "    }\n",
       "\n",
       "    .dataframe thead th {\n",
       "        text-align: right;\n",
       "    }\n",
       "</style>\n",
       "<table border=\"1\" class=\"dataframe\">\n",
       "  <thead>\n",
       "    <tr style=\"text-align: right;\">\n",
       "      <th></th>\n",
       "      <th>content</th>\n",
       "      <th>score</th>\n",
       "    </tr>\n",
       "  </thead>\n",
       "  <tbody>\n",
       "    <tr>\n",
       "      <th>0</th>\n",
       "      <td>it s good</td>\n",
       "      <td>4</td>\n",
       "    </tr>\n",
       "    <tr>\n",
       "      <th>1</th>\n",
       "      <td>i love this app so much i ve been using spotif...</td>\n",
       "      <td>5</td>\n",
       "    </tr>\n",
       "    <tr>\n",
       "      <th>2</th>\n",
       "      <td>perfect</td>\n",
       "      <td>5</td>\n",
       "    </tr>\n",
       "    <tr>\n",
       "      <th>3</th>\n",
       "      <td>best all around music streaming app i have use...</td>\n",
       "      <td>5</td>\n",
       "    </tr>\n",
       "    <tr>\n",
       "      <th>4</th>\n",
       "      <td>are y all fr gatekeeping the play button on song</td>\n",
       "      <td>1</td>\n",
       "    </tr>\n",
       "  </tbody>\n",
       "</table>\n",
       "</div>"
      ],
      "text/plain": [
       "                                             content  score\n",
       "0                                          it s good      4\n",
       "1  i love this app so much i ve been using spotif...      5\n",
       "2                                            perfect      5\n",
       "3  best all around music streaming app i have use...      5\n",
       "4   are y all fr gatekeeping the play button on song      1"
      ]
     },
     "execution_count": 10,
     "metadata": {},
     "output_type": "execute_result"
    }
   ],
   "source": [
    "data['content'] = data['content'].apply(preprocessing)\n",
    "data.head()"
   ]
  },
  {
   "cell_type": "markdown",
   "id": "6f08b1c3",
   "metadata": {},
   "source": [
    "# Feature Extraction"
   ]
  },
  {
   "cell_type": "code",
   "execution_count": 11,
   "id": "004d467a",
   "metadata": {},
   "outputs": [
    {
     "data": {
      "text/plain": [
       "<1x29406 sparse matrix of type '<class 'numpy.float64'>'\n",
       "\twith 2 stored elements in Compressed Sparse Row format>"
      ]
     },
     "execution_count": 11,
     "metadata": {},
     "output_type": "execute_result"
    }
   ],
   "source": [
    "X = data['content']\n",
    "\n",
    "tfidf = TfidfVectorizer()\n",
    "new_x = tfidf.fit_transform(X)\n",
    "new_x[0]"
   ]
  },
  {
   "cell_type": "code",
   "execution_count": 15,
   "id": "8e936637",
   "metadata": {},
   "outputs": [
    {
     "data": {
      "text/plain": [
       "<1x29406 sparse matrix of type '<class 'numpy.float64'>'\n",
       "\twith 2 stored elements in Compressed Sparse Row format>"
      ]
     },
     "execution_count": 15,
     "metadata": {},
     "output_type": "execute_result"
    }
   ],
   "source": [
    "new_x[0]"
   ]
  },
  {
   "cell_type": "markdown",
   "id": "3002df0e",
   "metadata": {},
   "source": [
    "# Tokenization"
   ]
  },
  {
   "cell_type": "code",
   "execution_count": 16,
   "id": "6725cd9d",
   "metadata": {},
   "outputs": [],
   "source": [
    "tokenize = Tokenizer(oov_token=\"<OOV>\")\n",
    "tokenize.fit_on_texts(X)\n",
    "word_index = tokenize.word_index\n",
    "\n",
    "data_sequance = tokenize.texts_to_sequences(X)\n",
    "maxlen = max([len(seq) for seq in data_sequance])\n",
    "# Padding_Sequances\n",
    "data_padding = pad_sequences(data_sequance, maxlen=maxlen, padding=\"pre\", truncating=\"pre\")\n",
    "\n",
    "input_length = max(len(seq) for seq in data_sequance)\n",
    "vocabulary_size = len(word_index) + 1"
   ]
  },
  {
   "cell_type": "markdown",
   "id": "6c7254b4",
   "metadata": {},
   "source": [
    "# Splitting Into Training & Testing"
   ]
  },
  {
   "cell_type": "code",
   "execution_count": 21,
   "id": "11e39e81",
   "metadata": {},
   "outputs": [
    {
     "data": {
      "text/plain": [
       "1    35060\n",
       "2    13846\n",
       "5    13568\n",
       "3    12019\n",
       "4     9672\n",
       "Name: score, dtype: int64"
      ]
     },
     "execution_count": 21,
     "metadata": {},
     "output_type": "execute_result"
    }
   ],
   "source": [
    "data['score'].value_counts()"
   ]
  },
  {
   "cell_type": "code",
   "execution_count": 19,
   "id": "b5c50771",
   "metadata": {},
   "outputs": [],
   "source": [
    "data['new_score'] = data['score'].apply(lambda x: x-1)"
   ]
  },
  {
   "cell_type": "code",
   "execution_count": 22,
   "id": "141009cc",
   "metadata": {},
   "outputs": [
    {
     "data": {
      "text/html": [
       "<div>\n",
       "<style scoped>\n",
       "    .dataframe tbody tr th:only-of-type {\n",
       "        vertical-align: middle;\n",
       "    }\n",
       "\n",
       "    .dataframe tbody tr th {\n",
       "        vertical-align: top;\n",
       "    }\n",
       "\n",
       "    .dataframe thead th {\n",
       "        text-align: right;\n",
       "    }\n",
       "</style>\n",
       "<table border=\"1\" class=\"dataframe\">\n",
       "  <thead>\n",
       "    <tr style=\"text-align: right;\">\n",
       "      <th></th>\n",
       "      <th>content</th>\n",
       "      <th>score</th>\n",
       "      <th>new_score</th>\n",
       "    </tr>\n",
       "  </thead>\n",
       "  <tbody>\n",
       "    <tr>\n",
       "      <th>0</th>\n",
       "      <td>it s good</td>\n",
       "      <td>4</td>\n",
       "      <td>3</td>\n",
       "    </tr>\n",
       "    <tr>\n",
       "      <th>1</th>\n",
       "      <td>i love this app so much i ve been using spotif...</td>\n",
       "      <td>5</td>\n",
       "      <td>4</td>\n",
       "    </tr>\n",
       "    <tr>\n",
       "      <th>2</th>\n",
       "      <td>perfect</td>\n",
       "      <td>5</td>\n",
       "      <td>4</td>\n",
       "    </tr>\n",
       "    <tr>\n",
       "      <th>3</th>\n",
       "      <td>best all around music streaming app i have use...</td>\n",
       "      <td>5</td>\n",
       "      <td>4</td>\n",
       "    </tr>\n",
       "    <tr>\n",
       "      <th>4</th>\n",
       "      <td>are y all fr gatekeeping the play button on song</td>\n",
       "      <td>1</td>\n",
       "      <td>0</td>\n",
       "    </tr>\n",
       "  </tbody>\n",
       "</table>\n",
       "</div>"
      ],
      "text/plain": [
       "                                             content  score  new_score\n",
       "0                                          it s good      4          3\n",
       "1  i love this app so much i ve been using spotif...      5          4\n",
       "2                                            perfect      5          4\n",
       "3  best all around music streaming app i have use...      5          4\n",
       "4   are y all fr gatekeeping the play button on song      1          0"
      ]
     },
     "execution_count": 22,
     "metadata": {},
     "output_type": "execute_result"
    }
   ],
   "source": [
    "data.head()"
   ]
  },
  {
   "cell_type": "code",
   "execution_count": 23,
   "id": "b1b9bcbf",
   "metadata": {},
   "outputs": [
    {
     "data": {
      "text/plain": [
       "0    35060\n",
       "1    13846\n",
       "4    13568\n",
       "2    12019\n",
       "3     9672\n",
       "Name: new_score, dtype: int64"
      ]
     },
     "execution_count": 23,
     "metadata": {},
     "output_type": "execute_result"
    }
   ],
   "source": [
    "data['new_score'].value_counts()"
   ]
  },
  {
   "cell_type": "code",
   "execution_count": 24,
   "id": "e5efde5a",
   "metadata": {},
   "outputs": [],
   "source": [
    "label = k.utils.to_categorical(data['new_score'], 5)"
   ]
  },
  {
   "cell_type": "code",
   "execution_count": 25,
   "id": "92867afd",
   "metadata": {},
   "outputs": [
    {
     "data": {
      "text/plain": [
       "(array([0., 0., 0., 0., 1.], dtype=float32),\n",
       " 0        4\n",
       " 1        5\n",
       " 2        5\n",
       " 3        5\n",
       " 4        1\n",
       "         ..\n",
       " 84160    3\n",
       " 84161    4\n",
       " 84162    3\n",
       " 84163    4\n",
       " 84164    1\n",
       " Name: score, Length: 84165, dtype: int64)"
      ]
     },
     "execution_count": 25,
     "metadata": {},
     "output_type": "execute_result"
    }
   ],
   "source": [
    "label[1], data['score']"
   ]
  },
  {
   "cell_type": "code",
   "execution_count": 26,
   "id": "95f237c3",
   "metadata": {},
   "outputs": [],
   "source": [
    "x_train, x_test, y_train, y_test = train_test_split(new_x, data['new_score'], train_size=0.7)\n",
    "x_train1, x_test1, y_train1, y_test1 = train_test_split(data_padding, label, train_size=0.7)"
   ]
  },
  {
   "cell_type": "markdown",
   "id": "1972d851",
   "metadata": {},
   "source": [
    "# Building Model"
   ]
  },
  {
   "cell_type": "code",
   "execution_count": 27,
   "id": "80698b75",
   "metadata": {},
   "outputs": [
    {
     "name": "stdout",
     "output_type": "stream",
     "text": [
      "the score of training data is  0.4882797250275821\n",
      "the score of testing data is  0.4796039603960396\n"
     ]
    }
   ],
   "source": [
    "model_nb = MultinomialNB()\n",
    "model_nb.fit(x_train, y_train)\n",
    "\n",
    "print('the score of training data is ', model_nb.score(x_train, y_train))\n",
    "print('the score of testing data is ', model_nb.score(x_test, y_test))"
   ]
  },
  {
   "cell_type": "code",
   "execution_count": 28,
   "id": "ed263d8a",
   "metadata": {},
   "outputs": [
    {
     "name": "stdout",
     "output_type": "stream",
     "text": [
      "the score of training data is  0.9994228973945515\n",
      "the score of testing data is  0.5165148514851485\n"
     ]
    }
   ],
   "source": [
    "model_rf = RandomForestClassifier()\n",
    "model_rf.fit(x_train, y_train)\n",
    "\n",
    "print('the score of training data is ', model_rf.score(x_train, y_train))\n",
    "print('the score of testing data is ', model_rf.score(x_test, y_test))"
   ]
  },
  {
   "cell_type": "markdown",
   "id": "9ed982ed",
   "metadata": {},
   "source": [
    "# Building Model ==> Neural Network"
   ]
  },
  {
   "cell_type": "code",
   "execution_count": 29,
   "id": "ff879f97",
   "metadata": {},
   "outputs": [],
   "source": [
    "model = k.models.Sequential(\n",
    "    [\n",
    "        k.layers.Embedding(vocabulary_size, 100, input_length=maxlen),\n",
    "        k.layers.GlobalAveragePooling1D(),\n",
    "        k.layers.Dense(128, activation=\"relu\"),\n",
    "        k.layers.Dense(24, activation=\"relu\"),\n",
    "        k.layers.Dense(5, activation=\"softmax\")\n",
    "    ])\n",
    "model.compile(optimizer=\"adam\", loss=k.losses.CategoricalCrossentropy(), metrics=[\"accuracy\"])"
   ]
  },
  {
   "cell_type": "code",
   "execution_count": 23,
   "id": "4342a774",
   "metadata": {},
   "outputs": [
    {
     "name": "stdout",
     "output_type": "stream",
     "text": [
      "Epoch 1/10\n",
      "1842/1842 - 9s - loss: 1.0031 - accuracy: 0.5924 - val_loss: 1.0369 - val_accuracy: 0.5782 - 9s/epoch - 5ms/step\n",
      "Epoch 2/10\n",
      "1842/1842 - 9s - loss: 0.9754 - accuracy: 0.6036 - val_loss: 1.0357 - val_accuracy: 0.5813 - 9s/epoch - 5ms/step\n",
      "Epoch 3/10\n",
      "1842/1842 - 9s - loss: 0.9579 - accuracy: 0.6106 - val_loss: 1.0196 - val_accuracy: 0.5845 - 9s/epoch - 5ms/step\n",
      "Epoch 4/10\n",
      "1842/1842 - 9s - loss: 0.9424 - accuracy: 0.6171 - val_loss: 1.0180 - val_accuracy: 0.5870 - 9s/epoch - 5ms/step\n",
      "Epoch 5/10\n",
      "1842/1842 - 9s - loss: 0.9270 - accuracy: 0.6245 - val_loss: 1.0167 - val_accuracy: 0.5847 - 9s/epoch - 5ms/step\n",
      "Epoch 6/10\n",
      "1842/1842 - 9s - loss: 0.9102 - accuracy: 0.6331 - val_loss: 1.0404 - val_accuracy: 0.5714 - 9s/epoch - 5ms/step\n",
      "Epoch 7/10\n",
      "1842/1842 - 9s - loss: 0.8928 - accuracy: 0.6392 - val_loss: 1.0369 - val_accuracy: 0.5865 - 9s/epoch - 5ms/step\n",
      "Epoch 8/10\n",
      "1842/1842 - 9s - loss: 0.8746 - accuracy: 0.6465 - val_loss: 1.0442 - val_accuracy: 0.5762 - 9s/epoch - 5ms/step\n",
      "Epoch 9/10\n",
      "1842/1842 - 9s - loss: 0.8546 - accuracy: 0.6567 - val_loss: 1.0562 - val_accuracy: 0.5761 - 9s/epoch - 5ms/step\n",
      "Epoch 10/10\n",
      "1842/1842 - 9s - loss: 0.8343 - accuracy: 0.6689 - val_loss: 1.0756 - val_accuracy: 0.5728 - 9s/epoch - 5ms/step\n"
     ]
    }
   ],
   "source": [
    "history = model.fit(x_train1, y_train1, epochs=10, validation_data=(x_test1, y_test1), verbose=2)"
   ]
  },
  {
   "cell_type": "code",
   "execution_count": 26,
   "id": "1f846054",
   "metadata": {},
   "outputs": [],
   "source": [
    "import matplotlib.pyplot as plt"
   ]
  },
  {
   "cell_type": "code",
   "execution_count": 31,
   "id": "e4d8396b",
   "metadata": {},
   "outputs": [
    {
     "data": {
      "image/png": "[encoded data removed]",
      "text/plain": [
       "<Figure size 640x480 with 1 Axes>"
      ]
     },
     "metadata": {},
     "output_type": "display_data"
    }
   ],
   "source": [
    "plt.plot(history.history[\"accuracy\"], label=\"accuracy\")\n",
    "plt.plot(history.history[\"val_accuracy\"], label=\"val_accuracy\")\n",
    "\n",
    "plt.xlabel(\"Epochs\")\n",
    "plt.ylabel(\"Loss\")\n",
    "\n",
    "plt.title(\"accuracy Vs Epochs\")\n",
    "\n",
    "plt.legend()\n",
    "plt.grid()"
   ]
  },
  {
   "cell_type": "code",
   "execution_count": 33,
   "id": "6f2c5382",
   "metadata": {},
   "outputs": [
    {
     "data": {
      "image/png": "[encoded data removed]",
      "text/plain": [
       "<Figure size 640x480 with 1 Axes>"
      ]
     },
     "metadata": {},
     "output_type": "display_data"
    }
   ],
   "source": [
    "plt.plot(history.history[\"loss\"], label=\"loss\")\n",
    "plt.plot(history.history[\"val_loss\"], label=\"val_loss\")\n",
    "\n",
    "plt.xlabel(\"Epochs\")\n",
    "plt.ylabel(\"loss\")\n",
    "\n",
    "plt.title(\"loss Vs Epochs\")\n",
    "\n",
    "plt.legend()\n",
    "plt.grid()"
   ]
  },
  {
   "cell_type": "code",
   "execution_count": null,
   "id": "3243315d",
   "metadata": {},
   "outputs": [],
   "source": []
  }
 ],
 "metadata": {
  "kernelspec": {
   "display_name": "Python 3 (ipykernel)",
   "language": "python",
   "name": "python3"
  },
  "language_info": {
   "codemirror_mode": {
    "name": "ipython",
    "version": 3
   },
   "file_extension": ".py",
   "mimetype": "text/x-python",
   "name": "python",
   "nbconvert_exporter": "python",
   "pygments_lexer": "ipython3",
   "version": "3.10.9"
  }
 },
 "nbformat": 4,
 "nbformat_minor": 5
}
